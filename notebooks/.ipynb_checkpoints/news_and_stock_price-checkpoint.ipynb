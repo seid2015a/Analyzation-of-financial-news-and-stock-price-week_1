{
 "cells": [
  {
   "cell_type": "code",
   "execution_count": null,
   "id": "368de951-4b13-432c-a3f6-f02a7aaa0548",
   "metadata": {},
   "outputs": [],
   "source": [
    "import pandas as pd\n",
    "import numpy as np\n",
    "import matplotlib.pyplot as plt\n",
    "from textblob import TextBlob\n",
    "import plotly.express as pe\n",
    "import matplotlib.dates as mdates\n",
    "import talib as tl\n",
    "import plotly.express as px"
   ]
  },
  {
   "cell_type": "code",
   "execution_count": null,
   "id": "d5087f50-bd98-45b5-84a0-0461e2722c1d",
   "metadata": {},
   "outputs": [],
   "source": [
    "import os\n",
    "print(os.getcwdb())\n",
    "os.chdir('..')\n",
    "print(os.getcwdb())"
   ]
  },
  {
   "cell_type": "code",
   "execution_count": null,
   "id": "eb531417-01af-45e1-b8b6-c3b985117e9d",
   "metadata": {},
   "outputs": [],
   "source": [
    "print('Explanatory Data Analysis (EDA) load and display news data')"
   ]
  },
  {
   "cell_type": "code",
   "execution_count": null,
   "id": "521d83af-ad7e-48b3-ae3e-b1658f162d56",
   "metadata": {},
   "outputs": [],
   "source": [
    "data_news = pd.read_csv('../data_1/raw_analyst_ratings.csv')\n",
    "data_news = pd.DataFrame(data_news)\n",
    "data_news.head()\n"
   ]
  },
  {
   "cell_type": "code",
   "execution_count": null,
   "id": "21f045ad-5a9f-400f-b2bf-d23a93a8e689",
   "metadata": {},
   "outputs": [],
   "source": [
    "print('size of Data set')\n",
    "data_news.shape"
   ]
  },
  {
   "cell_type": "code",
   "execution_count": null,
   "id": "f56510e7-096f-43a7-89a9-72d35987e075",
   "metadata": {},
   "outputs": [],
   "source": [
    "print('overview of the data set')\n",
    "print(data_news.info())"
   ]
  },
  {
   "cell_type": "code",
   "execution_count": null,
   "id": "3d5c7c53-1cf1-4848-ab9c-ef0adbe6d980",
   "metadata": {},
   "outputs": [],
   "source": [
    "print('check Missing Values')\n",
    "missing_values = data_news.isnull().sum()\n",
    "print('Missing values on the dataset:\\n',missing_values)"
   ]
  },
  {
   "cell_type": "code",
   "execution_count": null,
   "id": "5bf65cc1-5ba2-4c97-98c6-628c584600b1",
   "metadata": {},
   "outputs": [],
   "source": [
    "f\"Descriptive Statistics Of News Dataset Headline length of news data\""
   ]
  },
  {
   "cell_type": "code",
   "execution_count": null,
   "id": "2964bc0c-2f7c-4d4b-ac0b-105d43bd5241",
   "metadata": {},
   "outputs": [],
   "source": [
    "data_news['headline_length']=data_news['headline'].apply(len)\n",
    "headline_states = data_news['headline_length'].describe()\n",
    "print(\"headline length statics: \")\n",
    "print(headline_states)"
   ]
  },
  {
   "cell_type": "code",
   "execution_count": null,
   "id": "0649fb2a-9db2-4af6-8d75-2bb7248a073e",
   "metadata": {},
   "outputs": [],
   "source": [
    "headline_lengths = data_news['headline'].apply(len)\n",
    "headline_lengths.head(10)"
   ]
  },
  {
   "cell_type": "code",
   "execution_count": null,
   "id": "622858a0-a3ee-400d-9078-a426e5c41df4",
   "metadata": {},
   "outputs": [],
   "source": [
    "#count maximum of news data headline\n",
    "np.round(headline_lengths.describe(),2)"
   ]
  },
  {
   "cell_type": "code",
   "execution_count": null,
   "id": "d0fdc208-3d05-45a9-8bf4-0b07b987f0a3",
   "metadata": {},
   "outputs": [],
   "source": [
    "#number of published articles in a specific data\n",
    "publisher_date_counts = data_news['date'].value_counts()\n",
    "publisher_date_counts.head(10)"
   ]
  },
  {
   "cell_type": "code",
   "execution_count": null,
   "id": "bf273fe8-826c-4dc1-9e68-ce8e7a74119a",
   "metadata": {},
   "outputs": [],
   "source": [
    "#article count per publisher\n",
    "publisher_counts = data_news['publisher'].value_counts()\n",
    "print('\\n Nuber of Articles per publisher:')\n",
    "print(publisher_counts)"
   ]
  },
  {
   "cell_type": "code",
   "execution_count": null,
   "id": "d34cd1e6-4817-4a44-8d5d-32f6be2c9775",
   "metadata": {},
   "outputs": [],
   "source": [
    "#analyze trends by day of the week\n",
    "import seaborn as sb\n",
    "#data_news['date'] = pd.to_datetime(data_news['date'],format = '%Y-%m-%d')\n",
    "data_news['date'] = data_news['date']\n",
    "data_news['day_of_week'] = data_news['date'].dt.day_name()\n",
    "day_of_week_counts = data_news['day_of_week'].value_counts()\n",
    "# plot the number of articles by day of the week\n",
    "plt.figure(figsize=(8,5))\n",
    "sb.barplot(x=day_of_week_counts.index, y = day_of_week_counts.values)\n",
    "plt.title('Number of Articles by Day of the Week')\n",
    "plt.xlabel('Day of the week')\n",
    "plt.ylabel('Number of article')\n",
    "plt.show()\n"
   ]
  },
  {
   "cell_type": "code",
   "execution_count": null,
   "id": "a60d0391-ac70-4e60-99c7-b8d329a0d622",
   "metadata": {},
   "outputs": [],
   "source": [
    "# time series analysis\n",
    "data_news['date'] = pd.to_datetime(data_news['date'], format = 'ISO8601')\n",
    "data_news['date'].dt.to_period('M').value_counts().sort_index().plot(kind = \"line\", figsize = (20,6), title = \"number of published article in specific date \", xlabel = \"Year\", ylabel = \"number of publisher\")"
   ]
  },
  {
   "cell_type": "code",
   "execution_count": null,
   "id": "85b160e7-5774-4371-8b89-30e21b98c5b3",
   "metadata": {},
   "outputs": [],
   "source": [
    "# Calculate Sentiment analysis on news headline using TextBlob\n",
    "print(os.getcwdb())"
   ]
  },
  {
   "cell_type": "code",
   "execution_count": null,
   "id": "beb297d7-fe1f-40b0-b828-bcd4a50d182b",
   "metadata": {},
   "outputs": [],
   "source": [
    "import sys\n",
    "import os\n",
    "scripts_path = os.path.abspath(\"../scripts\")\n",
    "if scripts_path not in sys.path:\n",
    "    sys.path.append(scripts_path)\n",
    "\n",
    "from scripts.financialAnalysis import get_sentiment\n",
    "data_news['sentiment_score'] = data_news['headline'].apply(get_sentiment)"
   ]
  },
  {
   "cell_type": "code",
   "execution_count": null,
   "id": "aa580b69-ad2b-4abb-bb1d-42760c232630",
   "metadata": {},
   "outputs": [],
   "source": [
    "# Display Calculated Sentiment\n",
    "data_news.head()"
   ]
  },
  {
   "cell_type": "code",
   "execution_count": null,
   "id": "01ab9c5b-50ac-44b6-8959-b2358e82428a",
   "metadata": {},
   "outputs": [],
   "source": [
    "#Gauge the sentiment (positive, negative, neutral) associated with the news.\n",
    "data_news['sentiment_score_word'] = data_news['sentiment_score'].apply(lambda x: 'positive' if x > 0 else ('neutral' if x == 0 else 'negative'))\n",
    "data_news.head()"
   ]
  },
  {
   "cell_type": "code",
   "execution_count": null,
   "id": "1f260274-8af5-44cd-ae9f-e473922345b1",
   "metadata": {},
   "outputs": [],
   "source": [
    "# Sentiment score with respect to date\n",
    "data_news.groupby('date')['sentiment_score'].mean().plot(figsize=(20,16))"
   ]
  },
  {
   "cell_type": "code",
   "execution_count": null,
   "id": "c54281a1-1315-4a80-8408-2c75636e2d51",
   "metadata": {},
   "outputs": [],
   "source": [
    "#Number of Published with respect to sentiment categories\n",
    "numberOfSentimentCategories=data_news['sentiment_score_word'].value_counts()\n",
    "print(numberOfSentimentCategories)"
   ]
  },
  {
   "cell_type": "code",
   "execution_count": null,
   "id": "6637f2d2-0c2b-4f12-a9f7-895243131b78",
   "metadata": {},
   "outputs": [],
   "source": []
  },
  {
   "cell_type": "code",
   "execution_count": null,
   "id": "26810b1c-810f-4c37-9ace-dc3d2eee53cd",
   "metadata": {},
   "outputs": [],
   "source": []
  }
 ],
 "metadata": {
  "kernelspec": {
   "display_name": "Python [conda env:base] *",
   "language": "python",
   "name": "conda-base-py"
  },
  "language_info": {
   "codemirror_mode": {
    "name": "ipython",
    "version": 3
   },
   "file_extension": ".py",
   "mimetype": "text/x-python",
   "name": "python",
   "nbconvert_exporter": "python",
   "pygments_lexer": "ipython3",
   "version": "3.12.3"
  }
 },
 "nbformat": 4,
 "nbformat_minor": 5
}
