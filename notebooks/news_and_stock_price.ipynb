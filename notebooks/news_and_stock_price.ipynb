{
 "cells": [
  {
   "cell_type": "code",
   "execution_count": 1,
   "id": "368de951-4b13-432c-a3f6-f02a7aaa0548",
   "metadata": {},
   "outputs": [],
   "source": [
    "import pandas as pd\n",
    "import numpy as np\n",
    "import seaborn as sns\n",
    "import matplotlib.pyplot as plt\n",
    "from textblob import TextBlob\n",
    "import plotly.express as pe\n",
    "import matplotlib.dates as mdates\n",
    "import talib as tl\n",
    "import plotly.express as px"
   ]
  },
  {
   "cell_type": "code",
   "execution_count": 2,
   "id": "d5087f50-bd98-45b5-84a0-0461e2722c1d",
   "metadata": {},
   "outputs": [
    {
     "name": "stdout",
     "output_type": "stream",
     "text": [
      "b'C:\\\\Users\\\\du\\\\Desktop\\\\Git\\\\Analyzation-of-financial-news-and-stock-price-week_1\\\\notebooks'\n",
      "b'C:\\\\Users\\\\du\\\\Desktop\\\\Git\\\\Analyzation-of-financial-news-and-stock-price-week_1'\n"
     ]
    }
   ],
   "source": [
    "import os\n",
    "print(os.getcwdb())\n",
    "os.chdir('..')\n",
    "print(os.getcwdb())"
   ]
  },
  {
   "cell_type": "code",
   "execution_count": 3,
   "id": "eb531417-01af-45e1-b8b6-c3b985117e9d",
   "metadata": {},
   "outputs": [
    {
     "name": "stdout",
     "output_type": "stream",
     "text": [
      "Explanatory Data Analysis (EDA) load and display news data\n"
     ]
    }
   ],
   "source": [
    "print('Explanatory Data Analysis (EDA) load and display news data')"
   ]
  },
  {
   "cell_type": "code",
   "execution_count": 6,
   "id": "521d83af-ad7e-48b3-ae3e-b1658f162d56",
   "metadata": {},
   "outputs": [
    {
     "data": {
      "text/html": [
       "<div>\n",
       "<style scoped>\n",
       "    .dataframe tbody tr th:only-of-type {\n",
       "        vertical-align: middle;\n",
       "    }\n",
       "\n",
       "    .dataframe tbody tr th {\n",
       "        vertical-align: top;\n",
       "    }\n",
       "\n",
       "    .dataframe thead th {\n",
       "        text-align: right;\n",
       "    }\n",
       "</style>\n",
       "<table border=\"1\" class=\"dataframe\">\n",
       "  <thead>\n",
       "    <tr style=\"text-align: right;\">\n",
       "      <th></th>\n",
       "      <th>Unnamed: 0</th>\n",
       "      <th>headline</th>\n",
       "      <th>url</th>\n",
       "      <th>publisher</th>\n",
       "      <th>date</th>\n",
       "      <th>stock</th>\n",
       "    </tr>\n",
       "  </thead>\n",
       "  <tbody>\n",
       "    <tr>\n",
       "      <th>0</th>\n",
       "      <td>0</td>\n",
       "      <td>Stocks That Hit 52-Week Highs On Friday</td>\n",
       "      <td>https://www.benzinga.com/news/20/06/16190091/s...</td>\n",
       "      <td>Benzinga Insights</td>\n",
       "      <td>2020-06-05 10:30:54-04:00</td>\n",
       "      <td>A</td>\n",
       "    </tr>\n",
       "    <tr>\n",
       "      <th>1</th>\n",
       "      <td>1</td>\n",
       "      <td>Stocks That Hit 52-Week Highs On Wednesday</td>\n",
       "      <td>https://www.benzinga.com/news/20/06/16170189/s...</td>\n",
       "      <td>Benzinga Insights</td>\n",
       "      <td>2020-06-03 10:45:20-04:00</td>\n",
       "      <td>A</td>\n",
       "    </tr>\n",
       "    <tr>\n",
       "      <th>2</th>\n",
       "      <td>2</td>\n",
       "      <td>71 Biggest Movers From Friday</td>\n",
       "      <td>https://www.benzinga.com/news/20/05/16103463/7...</td>\n",
       "      <td>Lisa Levin</td>\n",
       "      <td>2020-05-26 04:30:07-04:00</td>\n",
       "      <td>A</td>\n",
       "    </tr>\n",
       "    <tr>\n",
       "      <th>3</th>\n",
       "      <td>3</td>\n",
       "      <td>46 Stocks Moving In Friday's Mid-Day Session</td>\n",
       "      <td>https://www.benzinga.com/news/20/05/16095921/4...</td>\n",
       "      <td>Lisa Levin</td>\n",
       "      <td>2020-05-22 12:45:06-04:00</td>\n",
       "      <td>A</td>\n",
       "    </tr>\n",
       "    <tr>\n",
       "      <th>4</th>\n",
       "      <td>4</td>\n",
       "      <td>B of A Securities Maintains Neutral on Agilent...</td>\n",
       "      <td>https://www.benzinga.com/news/20/05/16095304/b...</td>\n",
       "      <td>Vick Meyer</td>\n",
       "      <td>2020-05-22 11:38:59-04:00</td>\n",
       "      <td>A</td>\n",
       "    </tr>\n",
       "  </tbody>\n",
       "</table>\n",
       "</div>"
      ],
      "text/plain": [
       "   Unnamed: 0                                           headline  \\\n",
       "0           0            Stocks That Hit 52-Week Highs On Friday   \n",
       "1           1         Stocks That Hit 52-Week Highs On Wednesday   \n",
       "2           2                      71 Biggest Movers From Friday   \n",
       "3           3       46 Stocks Moving In Friday's Mid-Day Session   \n",
       "4           4  B of A Securities Maintains Neutral on Agilent...   \n",
       "\n",
       "                                                 url          publisher  \\\n",
       "0  https://www.benzinga.com/news/20/06/16190091/s...  Benzinga Insights   \n",
       "1  https://www.benzinga.com/news/20/06/16170189/s...  Benzinga Insights   \n",
       "2  https://www.benzinga.com/news/20/05/16103463/7...         Lisa Levin   \n",
       "3  https://www.benzinga.com/news/20/05/16095921/4...         Lisa Levin   \n",
       "4  https://www.benzinga.com/news/20/05/16095304/b...         Vick Meyer   \n",
       "\n",
       "                        date stock  \n",
       "0  2020-06-05 10:30:54-04:00     A  \n",
       "1  2020-06-03 10:45:20-04:00     A  \n",
       "2  2020-05-26 04:30:07-04:00     A  \n",
       "3  2020-05-22 12:45:06-04:00     A  \n",
       "4  2020-05-22 11:38:59-04:00     A  "
      ]
     },
     "execution_count": 6,
     "metadata": {},
     "output_type": "execute_result"
    }
   ],
   "source": [
    "data_news = pd.read_csv('../data_1/raw_analyst_ratings.csv')\n",
    "data_news = pd.DataFrame(data_news)\n",
    "data_news.head()\n"
   ]
  },
  {
   "cell_type": "code",
   "execution_count": 7,
   "id": "21f045ad-5a9f-400f-b2bf-d23a93a8e689",
   "metadata": {},
   "outputs": [
    {
     "name": "stdout",
     "output_type": "stream",
     "text": [
      "size of Data set\n"
     ]
    },
    {
     "data": {
      "text/plain": [
       "(1407328, 6)"
      ]
     },
     "execution_count": 7,
     "metadata": {},
     "output_type": "execute_result"
    }
   ],
   "source": [
    "print('size of Data set')\n",
    "data_news.shape"
   ]
  },
  {
   "cell_type": "code",
   "execution_count": null,
   "id": "f56510e7-096f-43a7-89a9-72d35987e075",
   "metadata": {},
   "outputs": [],
   "source": [
    "print('overview of the data set')\n",
    "print(data_news.info())"
   ]
  },
  {
   "cell_type": "code",
   "execution_count": null,
   "id": "3d5c7c53-1cf1-4848-ab9c-ef0adbe6d980",
   "metadata": {},
   "outputs": [],
   "source": [
    "print('check Missing Values')\n",
    "missing_values = data_news.isnull().sum()\n",
    "print('Missing values on the dataset:\\n',missing_values)"
   ]
  },
  {
   "cell_type": "code",
   "execution_count": null,
   "id": "5bf65cc1-5ba2-4c97-98c6-628c584600b1",
   "metadata": {},
   "outputs": [],
   "source": [
    "f\"Descriptive Statistics Of News Dataset Headline length of news data\""
   ]
  },
  {
   "cell_type": "code",
   "execution_count": null,
   "id": "2964bc0c-2f7c-4d4b-ac0b-105d43bd5241",
   "metadata": {},
   "outputs": [],
   "source": [
    "data_news['headline_length']=data_news['headline'].apply(len)\n",
    "headline_states = data_news['headline_length'].describe()\n",
    "print(\"headline length statics: \")\n",
    "print(headline_states)"
   ]
  },
  {
   "cell_type": "code",
   "execution_count": null,
   "id": "0649fb2a-9db2-4af6-8d75-2bb7248a073e",
   "metadata": {},
   "outputs": [],
   "source": []
  }
 ],
 "metadata": {
  "kernelspec": {
   "display_name": "Python [conda env:base] *",
   "language": "python",
   "name": "conda-base-py"
  },
  "language_info": {
   "codemirror_mode": {
    "name": "ipython",
    "version": 3
   },
   "file_extension": ".py",
   "mimetype": "text/x-python",
   "name": "python",
   "nbconvert_exporter": "python",
   "pygments_lexer": "ipython3",
   "version": "3.12.3"
  }
 },
 "nbformat": 4,
 "nbformat_minor": 5
}
