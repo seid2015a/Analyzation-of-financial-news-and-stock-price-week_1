{
 "cells": [
  {
   "cell_type": "code",
   "execution_count": 1,
   "id": "368de951-4b13-432c-a3f6-f02a7aaa0548",
   "metadata": {},
   "outputs": [],
   "source": [
    "import pandas as pd\n",
    "import numpy as np\n",
    "import matplotlib.pyplot as plt\n",
    "from textblob import TextBlob\n",
    "import plotly.express as pe\n",
    "import matplotlib.dates as mdates\n",
    "import talib as tl\n",
    "import plotly.express as px"
   ]
  },
  {
   "cell_type": "code",
   "execution_count": 2,
   "id": "d5087f50-bd98-45b5-84a0-0461e2722c1d",
   "metadata": {},
   "outputs": [
    {
     "name": "stdout",
     "output_type": "stream",
     "text": [
      "b'C:\\\\Users\\\\du\\\\Desktop\\\\Git\\\\Analyzation-of-financial-news-and-stock-price-week_1\\\\notebooks'\n",
      "b'C:\\\\Users\\\\du\\\\Desktop\\\\Git\\\\Analyzation-of-financial-news-and-stock-price-week_1'\n"
     ]
    }
   ],
   "source": [
    "import os\n",
    "print(os.getcwdb())\n",
    "os.chdir('..')\n",
    "print(os.getcwdb())"
   ]
  },
  {
   "cell_type": "code",
   "execution_count": 3,
   "id": "eb531417-01af-45e1-b8b6-c3b985117e9d",
   "metadata": {},
   "outputs": [
    {
     "name": "stdout",
     "output_type": "stream",
     "text": [
      "Explanatory Data Analysis (EDA) load and display news data\n"
     ]
    }
   ],
   "source": [
    "print('Explanatory Data Analysis (EDA) load and display news data')"
   ]
  },
  {
   "cell_type": "code",
   "execution_count": 6,
   "id": "521d83af-ad7e-48b3-ae3e-b1658f162d56",
   "metadata": {},
   "outputs": [
    {
     "data": {
      "text/html": [
       "<div>\n",
       "<style scoped>\n",
       "    .dataframe tbody tr th:only-of-type {\n",
       "        vertical-align: middle;\n",
       "    }\n",
       "\n",
       "    .dataframe tbody tr th {\n",
       "        vertical-align: top;\n",
       "    }\n",
       "\n",
       "    .dataframe thead th {\n",
       "        text-align: right;\n",
       "    }\n",
       "</style>\n",
       "<table border=\"1\" class=\"dataframe\">\n",
       "  <thead>\n",
       "    <tr style=\"text-align: right;\">\n",
       "      <th></th>\n",
       "      <th>Unnamed: 0</th>\n",
       "      <th>headline</th>\n",
       "      <th>url</th>\n",
       "      <th>publisher</th>\n",
       "      <th>date</th>\n",
       "      <th>stock</th>\n",
       "    </tr>\n",
       "  </thead>\n",
       "  <tbody>\n",
       "    <tr>\n",
       "      <th>0</th>\n",
       "      <td>0</td>\n",
       "      <td>Stocks That Hit 52-Week Highs On Friday</td>\n",
       "      <td>https://www.benzinga.com/news/20/06/16190091/s...</td>\n",
       "      <td>Benzinga Insights</td>\n",
       "      <td>2020-06-05 10:30:54-04:00</td>\n",
       "      <td>A</td>\n",
       "    </tr>\n",
       "    <tr>\n",
       "      <th>1</th>\n",
       "      <td>1</td>\n",
       "      <td>Stocks That Hit 52-Week Highs On Wednesday</td>\n",
       "      <td>https://www.benzinga.com/news/20/06/16170189/s...</td>\n",
       "      <td>Benzinga Insights</td>\n",
       "      <td>2020-06-03 10:45:20-04:00</td>\n",
       "      <td>A</td>\n",
       "    </tr>\n",
       "    <tr>\n",
       "      <th>2</th>\n",
       "      <td>2</td>\n",
       "      <td>71 Biggest Movers From Friday</td>\n",
       "      <td>https://www.benzinga.com/news/20/05/16103463/7...</td>\n",
       "      <td>Lisa Levin</td>\n",
       "      <td>2020-05-26 04:30:07-04:00</td>\n",
       "      <td>A</td>\n",
       "    </tr>\n",
       "    <tr>\n",
       "      <th>3</th>\n",
       "      <td>3</td>\n",
       "      <td>46 Stocks Moving In Friday's Mid-Day Session</td>\n",
       "      <td>https://www.benzinga.com/news/20/05/16095921/4...</td>\n",
       "      <td>Lisa Levin</td>\n",
       "      <td>2020-05-22 12:45:06-04:00</td>\n",
       "      <td>A</td>\n",
       "    </tr>\n",
       "    <tr>\n",
       "      <th>4</th>\n",
       "      <td>4</td>\n",
       "      <td>B of A Securities Maintains Neutral on Agilent...</td>\n",
       "      <td>https://www.benzinga.com/news/20/05/16095304/b...</td>\n",
       "      <td>Vick Meyer</td>\n",
       "      <td>2020-05-22 11:38:59-04:00</td>\n",
       "      <td>A</td>\n",
       "    </tr>\n",
       "  </tbody>\n",
       "</table>\n",
       "</div>"
      ],
      "text/plain": [
       "   Unnamed: 0                                           headline  \\\n",
       "0           0            Stocks That Hit 52-Week Highs On Friday   \n",
       "1           1         Stocks That Hit 52-Week Highs On Wednesday   \n",
       "2           2                      71 Biggest Movers From Friday   \n",
       "3           3       46 Stocks Moving In Friday's Mid-Day Session   \n",
       "4           4  B of A Securities Maintains Neutral on Agilent...   \n",
       "\n",
       "                                                 url          publisher  \\\n",
       "0  https://www.benzinga.com/news/20/06/16190091/s...  Benzinga Insights   \n",
       "1  https://www.benzinga.com/news/20/06/16170189/s...  Benzinga Insights   \n",
       "2  https://www.benzinga.com/news/20/05/16103463/7...         Lisa Levin   \n",
       "3  https://www.benzinga.com/news/20/05/16095921/4...         Lisa Levin   \n",
       "4  https://www.benzinga.com/news/20/05/16095304/b...         Vick Meyer   \n",
       "\n",
       "                        date stock  \n",
       "0  2020-06-05 10:30:54-04:00     A  \n",
       "1  2020-06-03 10:45:20-04:00     A  \n",
       "2  2020-05-26 04:30:07-04:00     A  \n",
       "3  2020-05-22 12:45:06-04:00     A  \n",
       "4  2020-05-22 11:38:59-04:00     A  "
      ]
     },
     "execution_count": 6,
     "metadata": {},
     "output_type": "execute_result"
    }
   ],
   "source": [
    "data_news = pd.read_csv('../data_1/raw_analyst_ratings.csv')\n",
    "data_news = pd.DataFrame(data_news)\n",
    "data_news.head()\n"
   ]
  },
  {
   "cell_type": "code",
   "execution_count": 7,
   "id": "21f045ad-5a9f-400f-b2bf-d23a93a8e689",
   "metadata": {},
   "outputs": [
    {
     "name": "stdout",
     "output_type": "stream",
     "text": [
      "size of Data set\n"
     ]
    },
    {
     "data": {
      "text/plain": [
       "(1407328, 6)"
      ]
     },
     "execution_count": 7,
     "metadata": {},
     "output_type": "execute_result"
    }
   ],
   "source": [
    "print('size of Data set')\n",
    "data_news.shape"
   ]
  },
  {
   "cell_type": "code",
   "execution_count": 8,
   "id": "f56510e7-096f-43a7-89a9-72d35987e075",
   "metadata": {},
   "outputs": [
    {
     "name": "stdout",
     "output_type": "stream",
     "text": [
      "overview of the data set\n",
      "<class 'pandas.core.frame.DataFrame'>\n",
      "RangeIndex: 1407328 entries, 0 to 1407327\n",
      "Data columns (total 6 columns):\n",
      " #   Column      Non-Null Count    Dtype \n",
      "---  ------      --------------    ----- \n",
      " 0   Unnamed: 0  1407328 non-null  int64 \n",
      " 1   headline    1407328 non-null  object\n",
      " 2   url         1407328 non-null  object\n",
      " 3   publisher   1407328 non-null  object\n",
      " 4   date        1407328 non-null  object\n",
      " 5   stock       1407328 non-null  object\n",
      "dtypes: int64(1), object(5)\n",
      "memory usage: 64.4+ MB\n",
      "None\n"
     ]
    }
   ],
   "source": [
    "print('overview of the data set')\n",
    "print(data_news.info())"
   ]
  },
  {
   "cell_type": "code",
   "execution_count": 9,
   "id": "3d5c7c53-1cf1-4848-ab9c-ef0adbe6d980",
   "metadata": {},
   "outputs": [
    {
     "name": "stdout",
     "output_type": "stream",
     "text": [
      "check Missing Values\n",
      "Missing values on the dataset:\n",
      " Unnamed: 0    0\n",
      "headline      0\n",
      "url           0\n",
      "publisher     0\n",
      "date          0\n",
      "stock         0\n",
      "dtype: int64\n"
     ]
    }
   ],
   "source": [
    "print('check Missing Values')\n",
    "missing_values = data_news.isnull().sum()\n",
    "print('Missing values on the dataset:\\n',missing_values)"
   ]
  },
  {
   "cell_type": "code",
   "execution_count": 10,
   "id": "5bf65cc1-5ba2-4c97-98c6-628c584600b1",
   "metadata": {},
   "outputs": [
    {
     "data": {
      "text/plain": [
       "'Descriptive Statistics Of News Dataset Headline length of news data'"
      ]
     },
     "execution_count": 10,
     "metadata": {},
     "output_type": "execute_result"
    }
   ],
   "source": [
    "f\"Descriptive Statistics Of News Dataset Headline length of news data\""
   ]
  },
  {
   "cell_type": "code",
   "execution_count": 11,
   "id": "2964bc0c-2f7c-4d4b-ac0b-105d43bd5241",
   "metadata": {},
   "outputs": [
    {
     "name": "stdout",
     "output_type": "stream",
     "text": [
      "headline length statics: \n",
      "count    1.407328e+06\n",
      "mean     7.312051e+01\n",
      "std      4.073531e+01\n",
      "min      3.000000e+00\n",
      "25%      4.700000e+01\n",
      "50%      6.400000e+01\n",
      "75%      8.700000e+01\n",
      "max      5.120000e+02\n",
      "Name: headline_length, dtype: float64\n"
     ]
    }
   ],
   "source": [
    "data_news['headline_length']=data_news['headline'].apply(len)\n",
    "headline_states = data_news['headline_length'].describe()\n",
    "print(\"headline length statics: \")\n",
    "print(headline_states)"
   ]
  },
  {
   "cell_type": "code",
   "execution_count": 12,
   "id": "0649fb2a-9db2-4af6-8d75-2bb7248a073e",
   "metadata": {},
   "outputs": [
    {
     "data": {
      "text/plain": [
       "0     39\n",
       "1     42\n",
       "2     29\n",
       "3     44\n",
       "4     87\n",
       "5     71\n",
       "6     73\n",
       "7    120\n",
       "8     84\n",
       "9     42\n",
       "Name: headline, dtype: int64"
      ]
     },
     "execution_count": 12,
     "metadata": {},
     "output_type": "execute_result"
    }
   ],
   "source": [
    "headline_lengths = data_news['headline'].apply(len)\n",
    "headline_lengths.head(10)"
   ]
  },
  {
   "cell_type": "code",
   "execution_count": 15,
   "id": "622858a0-a3ee-400d-9078-a426e5c41df4",
   "metadata": {},
   "outputs": [
    {
     "data": {
      "text/plain": [
       "count    1407328.00\n",
       "mean          73.12\n",
       "std           40.74\n",
       "min            3.00\n",
       "25%           47.00\n",
       "50%           64.00\n",
       "75%           87.00\n",
       "max          512.00\n",
       "Name: headline, dtype: float64"
      ]
     },
     "execution_count": 15,
     "metadata": {},
     "output_type": "execute_result"
    }
   ],
   "source": [
    "#count maximum of news data headline\n",
    "np.round(headline_lengths.describe(),2)"
   ]
  },
  {
   "cell_type": "code",
   "execution_count": 16,
   "id": "d0fdc208-3d05-45a9-8bf4-0b07b987f0a3",
   "metadata": {},
   "outputs": [
    {
     "data": {
      "text/plain": [
       "date\n",
       "2020-03-12 00:00:00    1766\n",
       "2020-02-27 00:00:00    1292\n",
       "2020-02-28 00:00:00    1239\n",
       "2019-08-01 00:00:00    1228\n",
       "2020-03-06 00:00:00    1147\n",
       "2018-08-02 00:00:00    1138\n",
       "2009-08-10 00:00:00    1130\n",
       "2018-10-30 00:00:00    1129\n",
       "2018-07-26 00:00:00    1125\n",
       "2019-07-31 00:00:00    1116\n",
       "Name: count, dtype: int64"
      ]
     },
     "execution_count": 16,
     "metadata": {},
     "output_type": "execute_result"
    }
   ],
   "source": [
    "#number of published articles in a specific data\n",
    "publisher_date_counts = data_news['date'].value_counts()\n",
    "publisher_date_counts.head(10)"
   ]
  },
  {
   "cell_type": "code",
   "execution_count": 28,
   "id": "bf273fe8-826c-4dc1-9e68-ce8e7a74119a",
   "metadata": {},
   "outputs": [
    {
     "name": "stdout",
     "output_type": "stream",
     "text": [
      "\n",
      " Nuber of Articles per publisher:\n",
      "publisher\n",
      "Paul Quintaro                      228373\n",
      "Lisa Levin                         186979\n",
      "Benzinga Newsdesk                  150484\n",
      "Charles Gross                       96732\n",
      "Monica Gerson                       82380\n",
      "                                    ...  \n",
      "Shazir Mucklai - Imperium Group         1\n",
      "Laura Jennings                          1\n",
      "Eric Martin                             1\n",
      "Jose Rodrigo                            1\n",
      "Jeremie Capron                          1\n",
      "Name: count, Length: 1034, dtype: int64\n"
     ]
    }
   ],
   "source": [
    "#article count per publisher\n",
    "publisher_counts = data_news['publisher'].value_counts()\n",
    "print('\\n Nuber of Articles per publisher:')\n",
    "print(publisher_counts)"
   ]
  },
  {
   "cell_type": "code",
   "execution_count": 35,
   "id": "d34cd1e6-4817-4a44-8d5d-32f6be2c9775",
   "metadata": {},
   "outputs": [
    {
     "data": {
      "image/png": "[encoded data removed]",
      "text/plain": [
       "<Figure size 800x500 with 1 Axes>"
      ]
     },
     "metadata": {},
     "output_type": "display_data"
    }
   ],
   "source": [
    "#analyze trends by day of the week\n",
    "import seaborn as sb\n",
    "#data_news['date'] = pd.to_datetime(data_news['date'],format = '%Y-%m-%d')\n",
    "data_news['date'] = data_news['date']\n",
    "data_news['day_of_week'] = data_news['date'].dt.day_name()\n",
    "day_of_week_counts = data_news['day_of_week'].value_counts()\n",
    "# plot the number of articles by day of the week\n",
    "plt.figure(figsize=(8,5))\n",
    "sb.barplot(x=day_of_week_counts.index, y = day_of_week_counts.values)\n",
    "plt.title('Number of Articles by Day of the Week')\n",
    "plt.xlabel('Day of the week')\n",
    "plt.ylabel('Number of article')\n",
    "plt.show()\n"
   ]
  },
  {
   "cell_type": "code",
   "execution_count": null,
   "id": "a60d0391-ac70-4e60-99c7-b8d329a0d622",
   "metadata": {},
   "outputs": [],
   "source": [
    "data_news['date'] = pd.to_datetime(data_news['date'], format = 'ISO8601')\n",
    "data_news['date'].dt.to_period('M').value_counts().sort_index().plot(kind = \"line\", figsize = (20,6), title = \"number of published article in specific date \", xlabel = \"Year\", ylabel = \""
   ]
  }
 ],
 "metadata": {
  "kernelspec": {
   "display_name": "Python [conda env:base] *",
   "language": "python",
   "name": "conda-base-py"
  },
  "language_info": {
   "codemirror_mode": {
    "name": "ipython",
    "version": 3
   },
   "file_extension": ".py",
   "mimetype": "text/x-python",
   "name": "python",
   "nbconvert_exporter": "python",
   "pygments_lexer": "ipython3",
   "version": "3.12.3"
  }
 },
 "nbformat": 4,
 "nbformat_minor": 5
}
