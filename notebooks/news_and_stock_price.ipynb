{
 "cells": [
  {
   "cell_type": "code",
   "execution_count": 1,
   "id": "368de951-4b13-432c-a3f6-f02a7aaa0548",
   "metadata": {},
   "outputs": [
    {
     "ename": "ModuleNotFoundError",
     "evalue": "No module named 'talib'",
     "output_type": "error",
     "traceback": [
      "\u001b[1;31m---------------------------------------------------------------------------\u001b[0m",
      "\u001b[1;31mModuleNotFoundError\u001b[0m                       Traceback (most recent call last)",
      "Cell \u001b[1;32mIn[1], line 8\u001b[0m\n\u001b[0;32m      6\u001b[0m \u001b[38;5;28;01mimport\u001b[39;00m \u001b[38;5;21;01mplotly\u001b[39;00m\u001b[38;5;21;01m.\u001b[39;00m\u001b[38;5;21;01mexpress\u001b[39;00m \u001b[38;5;28;01mas\u001b[39;00m \u001b[38;5;21;01mpe\u001b[39;00m\n\u001b[0;32m      7\u001b[0m \u001b[38;5;28;01mimport\u001b[39;00m \u001b[38;5;21;01mmatplotlib\u001b[39;00m\u001b[38;5;21;01m.\u001b[39;00m\u001b[38;5;21;01mdates\u001b[39;00m \u001b[38;5;28;01mas\u001b[39;00m \u001b[38;5;21;01mmdates\u001b[39;00m\n\u001b[1;32m----> 8\u001b[0m \u001b[38;5;28;01mimport\u001b[39;00m \u001b[38;5;21;01mtalib\u001b[39;00m \u001b[38;5;28;01mas\u001b[39;00m \u001b[38;5;21;01mtl\u001b[39;00m\n\u001b[0;32m      9\u001b[0m \u001b[38;5;28;01mimport\u001b[39;00m \u001b[38;5;21;01mplotly\u001b[39;00m\u001b[38;5;21;01m.\u001b[39;00m\u001b[38;5;21;01mexpress\u001b[39;00m \u001b[38;5;28;01mas\u001b[39;00m \u001b[38;5;21;01mpx\u001b[39;00m\n",
      "\u001b[1;31mModuleNotFoundError\u001b[0m: No module named 'talib'"
     ]
    }
   ],
   "source": [
    "import pandas as pd\n",
    "import numpy as np\n",
    "import seaborn as sns\n",
    "import matplotlib.pyplot as plt\n",
    "from textblob import TextBlob\n",
    "import plotly.express as pe\n",
    "import matplotlib.dates as mdates\n",
    "import talib as tl\n",
    "import plotly.express as px"
   ]
  },
  {
   "cell_type": "code",
   "execution_count": null,
   "id": "d5087f50-bd98-45b5-84a0-0461e2722c1d",
   "metadata": {},
   "outputs": [],
   "source": [
    "import os\n",
    "print(os.getcwdb())\n",
    "os.chdir('..')\n",
    "print(os.getcwdb())"
   ]
  },
  {
   "cell_type": "code",
   "execution_count": null,
   "id": "eb531417-01af-45e1-b8b6-c3b985117e9d",
   "metadata": {},
   "outputs": [],
   "source": [
    "print('Explanatory Data Analysis (EDA) load and display news data')"
   ]
  },
  {
   "cell_type": "code",
   "execution_count": null,
   "id": "521d83af-ad7e-48b3-ae3e-b1658f162d56",
   "metadata": {},
   "outputs": [],
   "source": [
    "data_news = pd.read_csv('./data_1/raw_analyst_ratings.csv')\n",
    "data_news = pd.DataFrame(data_news)\n",
    "data_news.head()\n"
   ]
  },
  {
   "cell_type": "code",
   "execution_count": null,
   "id": "21f045ad-5a9f-400f-b2bf-d23a93a8e689",
   "metadata": {},
   "outputs": [],
   "source": [
    "print('size of Data set')\n",
    "data_news.shape"
   ]
  },
  {
   "cell_type": "code",
   "execution_count": null,
   "id": "f56510e7-096f-43a7-89a9-72d35987e075",
   "metadata": {},
   "outputs": [],
   "source": [
    "print('overview of the data set')\n",
    "print(data_news.info())"
   ]
  },
  {
   "cell_type": "code",
   "execution_count": 9,
   "id": "3d5c7c53-1cf1-4848-ab9c-ef0adbe6d980",
   "metadata": {},
   "outputs": [
    {
     "name": "stdout",
     "output_type": "stream",
     "text": [
      "check Missing Values\n",
      "Missing values on the dataset:\n",
      " Unnamed: 0    0\n",
      "headline      0\n",
      "url           0\n",
      "publisher     0\n",
      "date          0\n",
      "stock         0\n",
      "dtype: int64\n"
     ]
    }
   ],
   "source": [
    "print('check Missing Values')\n",
    "missing_values = data_news.isnull().sum()\n",
    "print('Missing values on the dataset:\\n',missing_values)"
   ]
  },
  {
   "cell_type": "code",
   "execution_count": null,
   "id": "5bf65cc1-5ba2-4c97-98c6-628c584600b1",
   "metadata": {},
   "outputs": [],
   "source": []
  }
 ],
 "metadata": {
  "kernelspec": {
   "display_name": "Python [conda env:base] *",
   "language": "python",
   "name": "conda-base-py"
  },
  "language_info": {
   "codemirror_mode": {
    "name": "ipython",
    "version": 3
   },
   "file_extension": ".py",
   "mimetype": "text/x-python",
   "name": "python",
   "nbconvert_exporter": "python",
   "pygments_lexer": "ipython3",
   "version": "3.12.7"
  }
 },
 "nbformat": 4,
 "nbformat_minor": 5
}
